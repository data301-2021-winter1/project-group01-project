{
 "cells": [
  {
   "cell_type": "markdown",
   "metadata": {
    "tags": []
   },
   "source": [
    "# Jarod Guign\n",
    "## Research question/interests\n",
    "\n",
    "Briefly describe your research question or interests here.\n",
    "\n",
    "Does the release and continued popularity of triple A multiplayer fps titles effect the player numbers of CS:GO, or is its player base isolated from other video game communities?"
   ]
  },
  {
   "cell_type": "markdown",
   "metadata": {
    "tags": []
   },
   "source": [
    "## Milestone 3"
   ]
  },
  {
   "cell_type": "markdown",
   "metadata": {
    "tags": []
   },
   "source": [
    "#### Imports"
   ]
  },
  {
   "cell_type": "code",
   "execution_count": 2,
   "metadata": {},
   "outputs": [],
   "source": [
    "import pandas as pd\n",
    "import numpy as np\n",
    "import datetime\n",
    "import seaborn as sns\n",
    "import matplotlib.pyplot as plt\n",
    "from project_functions1 import load_process_csgo"
   ]
  },
  {
   "cell_type": "markdown",
   "metadata": {
    "tags": []
   },
   "source": [
    "### Analysis Pipeline"
   ]
  },
  {
   "cell_type": "markdown",
   "metadata": {
    "tags": []
   },
   "source": [
    "#### Load Data"
   ]
  },
  {
   "cell_type": "code",
   "execution_count": 3,
   "metadata": {},
   "outputs": [],
   "source": [
    "chord1 = pd.read_csv('../data/raw/SteamCharts.csv', encoding='latin')\n",
    "chord2 = pd.read_csv('../data/raw/Twitch_game_data.csv', encoding='latin')\n",
    "chord3 = pd.read_csv('../data/raw/Twitch_global_data.csv', encoding='latin')\n",
    "df_csgo = chord1[chord1['gamename'].str.startswith(\"Counter-Strike: Global Offensive\")]\n",
    "# df_csgo"
   ]
  },
  {
   "cell_type": "markdown",
   "metadata": {
    "jp-MarkdownHeadingCollapsed": true,
    "tags": []
   },
   "source": [
    "#### Clean Data"
   ]
  },
  {
   "cell_type": "code",
   "execution_count": 85,
   "metadata": {},
   "outputs": [],
   "source": [
    "df_csgo['gain'].fillna(0, inplace=True)\n",
    "df_csgo = df_csgo.drop(['peak', 'avg_peak_perc', 'gamename'], axis = 1)\n",
    "# df_csgo.pop()\n",
    "# df_csgo.pop()\n",
    "# df_csgo"
   ]
  },
  {
   "cell_type": "markdown",
   "metadata": {
    "jp-MarkdownHeadingCollapsed": true,
    "tags": []
   },
   "source": [
    "#### Process Data & Wrangled"
   ]
  },
  {
   "cell_type": "code",
   "execution_count": 86,
   "metadata": {},
   "outputs": [
    {
     "data": {
      "text/html": [
       "<div>\n",
       "<style scoped>\n",
       "    .dataframe tbody tr th:only-of-type {\n",
       "        vertical-align: middle;\n",
       "    }\n",
       "\n",
       "    .dataframe tbody tr th {\n",
       "        vertical-align: top;\n",
       "    }\n",
       "\n",
       "    .dataframe thead th {\n",
       "        text-align: right;\n",
       "    }\n",
       "</style>\n",
       "<table border=\"1\" class=\"dataframe\">\n",
       "  <thead>\n",
       "    <tr style=\"text-align: right;\">\n",
       "      <th></th>\n",
       "      <th>year</th>\n",
       "      <th>month</th>\n",
       "      <th>avg</th>\n",
       "      <th>gain</th>\n",
       "      <th>day</th>\n",
       "      <th>date</th>\n",
       "    </tr>\n",
       "  </thead>\n",
       "  <tbody>\n",
       "    <tr>\n",
       "      <th>0</th>\n",
       "      <td>2021</td>\n",
       "      <td>February</td>\n",
       "      <td>741013.24</td>\n",
       "      <td>-2196.42</td>\n",
       "      <td>1</td>\n",
       "      <td>2021-02-01</td>\n",
       "    </tr>\n",
       "    <tr>\n",
       "      <th>1</th>\n",
       "      <td>2021</td>\n",
       "      <td>January</td>\n",
       "      <td>743209.66</td>\n",
       "      <td>25405.91</td>\n",
       "      <td>1</td>\n",
       "      <td>2021-01-01</td>\n",
       "    </tr>\n",
       "    <tr>\n",
       "      <th>2</th>\n",
       "      <td>2020</td>\n",
       "      <td>December</td>\n",
       "      <td>717803.75</td>\n",
       "      <td>49049.17</td>\n",
       "      <td>1</td>\n",
       "      <td>2020-12-01</td>\n",
       "    </tr>\n",
       "    <tr>\n",
       "      <th>3</th>\n",
       "      <td>2020</td>\n",
       "      <td>November</td>\n",
       "      <td>668754.58</td>\n",
       "      <td>55087.89</td>\n",
       "      <td>1</td>\n",
       "      <td>2020-11-01</td>\n",
       "    </tr>\n",
       "    <tr>\n",
       "      <th>4</th>\n",
       "      <td>2020</td>\n",
       "      <td>October</td>\n",
       "      <td>613666.69</td>\n",
       "      <td>6816.37</td>\n",
       "      <td>1</td>\n",
       "      <td>2020-10-01</td>\n",
       "    </tr>\n",
       "    <tr>\n",
       "      <th>...</th>\n",
       "      <td>...</td>\n",
       "      <td>...</td>\n",
       "      <td>...</td>\n",
       "      <td>...</td>\n",
       "      <td>...</td>\n",
       "      <td>...</td>\n",
       "    </tr>\n",
       "    <tr>\n",
       "      <th>99</th>\n",
       "      <td>2012</td>\n",
       "      <td>November</td>\n",
       "      <td>14134.1</td>\n",
       "      <td>3394.62</td>\n",
       "      <td>1</td>\n",
       "      <td>2012-11-01</td>\n",
       "    </tr>\n",
       "    <tr>\n",
       "      <th>100</th>\n",
       "      <td>2012</td>\n",
       "      <td>October</td>\n",
       "      <td>10739.48</td>\n",
       "      <td>-5261.27</td>\n",
       "      <td>1</td>\n",
       "      <td>2012-10-01</td>\n",
       "    </tr>\n",
       "    <tr>\n",
       "      <th>101</th>\n",
       "      <td>2012</td>\n",
       "      <td>September</td>\n",
       "      <td>16000.75</td>\n",
       "      <td>525.36</td>\n",
       "      <td>1</td>\n",
       "      <td>2012-09-01</td>\n",
       "    </tr>\n",
       "    <tr>\n",
       "      <th>102</th>\n",
       "      <td>2012</td>\n",
       "      <td>August</td>\n",
       "      <td>15475.39</td>\n",
       "      <td>14542.81</td>\n",
       "      <td>1</td>\n",
       "      <td>2012-08-01</td>\n",
       "    </tr>\n",
       "    <tr>\n",
       "      <th>103</th>\n",
       "      <td>2012</td>\n",
       "      <td>July</td>\n",
       "      <td>932.57</td>\n",
       "      <td>0.0</td>\n",
       "      <td>1</td>\n",
       "      <td>2012-07-01</td>\n",
       "    </tr>\n",
       "  </tbody>\n",
       "</table>\n",
       "<p>104 rows × 6 columns</p>\n",
       "</div>"
      ],
      "text/plain": [
       "     year       month        avg      gain day       date\n",
       "0    2021   February   741013.24  -2196.42   1 2021-02-01\n",
       "1    2021    January   743209.66  25405.91   1 2021-01-01\n",
       "2    2020   December   717803.75  49049.17   1 2020-12-01\n",
       "3    2020   November   668754.58  55087.89   1 2020-11-01\n",
       "4    2020    October   613666.69   6816.37   1 2020-10-01\n",
       "..    ...         ...        ...       ...  ..        ...\n",
       "99   2012   November     14134.1   3394.62   1 2012-11-01\n",
       "100  2012    October    10739.48  -5261.27   1 2012-10-01\n",
       "101  2012  September    16000.75    525.36   1 2012-09-01\n",
       "102  2012     August    15475.39  14542.81   1 2012-08-01\n",
       "103  2012       July      932.57       0.0   1 2012-07-01\n",
       "\n",
       "[104 rows x 6 columns]"
      ]
     },
     "execution_count": 86,
     "metadata": {},
     "output_type": "execute_result"
    }
   ],
   "source": [
    "df_csgo = df_csgo.convert_dtypes()\n",
    "df_csgo = df_csgo.assign(day= '1')\n",
    "df_csgo = df_csgo.assign(date= pd.to_datetime(df_csgo['year'].astype(str)  + df_csgo['month'] + df_csgo['day'], format='%Y%B%d'))\n",
    "df_csgo"
   ]
  },
  {
   "cell_type": "code",
   "execution_count": 9,
   "metadata": {},
   "outputs": [
    {
     "data": {
      "text/html": [
       "<div>\n",
       "<style scoped>\n",
       "    .dataframe tbody tr th:only-of-type {\n",
       "        vertical-align: middle;\n",
       "    }\n",
       "\n",
       "    .dataframe tbody tr th {\n",
       "        vertical-align: top;\n",
       "    }\n",
       "\n",
       "    .dataframe thead th {\n",
       "        text-align: right;\n",
       "    }\n",
       "</style>\n",
       "<table border=\"1\" class=\"dataframe\">\n",
       "  <thead>\n",
       "    <tr style=\"text-align: right;\">\n",
       "      <th></th>\n",
       "      <th>date</th>\n",
       "      <th>avg</th>\n",
       "      <th>gain</th>\n",
       "    </tr>\n",
       "  </thead>\n",
       "  <tbody>\n",
       "    <tr>\n",
       "      <th>103</th>\n",
       "      <td>2012-07-01</td>\n",
       "      <td>932.57</td>\n",
       "      <td>0.0</td>\n",
       "    </tr>\n",
       "    <tr>\n",
       "      <th>102</th>\n",
       "      <td>2012-08-01</td>\n",
       "      <td>15475.39</td>\n",
       "      <td>14542.81</td>\n",
       "    </tr>\n",
       "    <tr>\n",
       "      <th>101</th>\n",
       "      <td>2012-09-01</td>\n",
       "      <td>16000.75</td>\n",
       "      <td>525.36</td>\n",
       "    </tr>\n",
       "    <tr>\n",
       "      <th>100</th>\n",
       "      <td>2012-10-01</td>\n",
       "      <td>10739.48</td>\n",
       "      <td>-5261.27</td>\n",
       "    </tr>\n",
       "    <tr>\n",
       "      <th>99</th>\n",
       "      <td>2012-11-01</td>\n",
       "      <td>14134.1</td>\n",
       "      <td>3394.62</td>\n",
       "    </tr>\n",
       "    <tr>\n",
       "      <th>...</th>\n",
       "      <td>...</td>\n",
       "      <td>...</td>\n",
       "      <td>...</td>\n",
       "    </tr>\n",
       "    <tr>\n",
       "      <th>4</th>\n",
       "      <td>2020-10-01</td>\n",
       "      <td>613666.69</td>\n",
       "      <td>6816.37</td>\n",
       "    </tr>\n",
       "    <tr>\n",
       "      <th>3</th>\n",
       "      <td>2020-11-01</td>\n",
       "      <td>668754.58</td>\n",
       "      <td>55087.89</td>\n",
       "    </tr>\n",
       "    <tr>\n",
       "      <th>2</th>\n",
       "      <td>2020-12-01</td>\n",
       "      <td>717803.75</td>\n",
       "      <td>49049.17</td>\n",
       "    </tr>\n",
       "    <tr>\n",
       "      <th>1</th>\n",
       "      <td>2021-01-01</td>\n",
       "      <td>743209.66</td>\n",
       "      <td>25405.91</td>\n",
       "    </tr>\n",
       "    <tr>\n",
       "      <th>0</th>\n",
       "      <td>2021-02-01</td>\n",
       "      <td>741013.24</td>\n",
       "      <td>-2196.42</td>\n",
       "    </tr>\n",
       "  </tbody>\n",
       "</table>\n",
       "<p>104 rows × 3 columns</p>\n",
       "</div>"
      ],
      "text/plain": [
       "          date        avg      gain\n",
       "103 2012-07-01     932.57       0.0\n",
       "102 2012-08-01   15475.39  14542.81\n",
       "101 2012-09-01   16000.75    525.36\n",
       "100 2012-10-01   10739.48  -5261.27\n",
       "99  2012-11-01    14134.1   3394.62\n",
       "..         ...        ...       ...\n",
       "4   2020-10-01  613666.69   6816.37\n",
       "3   2020-11-01  668754.58  55087.89\n",
       "2   2020-12-01  717803.75  49049.17\n",
       "1   2021-01-01  743209.66  25405.91\n",
       "0   2021-02-01  741013.24  -2196.42\n",
       "\n",
       "[104 rows x 3 columns]"
      ]
     },
     "execution_count": 9,
     "metadata": {},
     "output_type": "execute_result"
    }
   ],
   "source": [
    "df_csgo.pop('year')\n",
    "df_csgo.pop('month')\n",
    "df_csgo.pop('day')\n",
    "df = df_csgo.pop('datetime')\n",
    "df_csgo.insert(0, 'date', df)\n",
    "df_csgo_sorted = df_csgo.sort_values('date')\n",
    "df_csgo_sorted"
   ]
  },
  {
   "cell_type": "code",
   "execution_count": 10,
   "metadata": {},
   "outputs": [
    {
     "data": {
      "text/html": [
       "<div>\n",
       "<style scoped>\n",
       "    .dataframe tbody tr th:only-of-type {\n",
       "        vertical-align: middle;\n",
       "    }\n",
       "\n",
       "    .dataframe tbody tr th {\n",
       "        vertical-align: top;\n",
       "    }\n",
       "\n",
       "    .dataframe thead th {\n",
       "        text-align: right;\n",
       "    }\n",
       "</style>\n",
       "<table border=\"1\" class=\"dataframe\">\n",
       "  <thead>\n",
       "    <tr style=\"text-align: right;\">\n",
       "      <th></th>\n",
       "      <th>date</th>\n",
       "      <th>avg</th>\n",
       "      <th>gain</th>\n",
       "      <th>rolling_gain</th>\n",
       "    </tr>\n",
       "  </thead>\n",
       "  <tbody>\n",
       "    <tr>\n",
       "      <th>103</th>\n",
       "      <td>2012-07-01</td>\n",
       "      <td>932.57</td>\n",
       "      <td>0.0</td>\n",
       "      <td>NaN</td>\n",
       "    </tr>\n",
       "    <tr>\n",
       "      <th>102</th>\n",
       "      <td>2012-08-01</td>\n",
       "      <td>15475.39</td>\n",
       "      <td>14542.81</td>\n",
       "      <td>NaN</td>\n",
       "    </tr>\n",
       "    <tr>\n",
       "      <th>101</th>\n",
       "      <td>2012-09-01</td>\n",
       "      <td>16000.75</td>\n",
       "      <td>525.36</td>\n",
       "      <td>NaN</td>\n",
       "    </tr>\n",
       "    <tr>\n",
       "      <th>100</th>\n",
       "      <td>2012-10-01</td>\n",
       "      <td>10739.48</td>\n",
       "      <td>-5261.27</td>\n",
       "      <td>2175.948571</td>\n",
       "    </tr>\n",
       "    <tr>\n",
       "      <th>99</th>\n",
       "      <td>2012-11-01</td>\n",
       "      <td>14134.1</td>\n",
       "      <td>3394.62</td>\n",
       "      <td>2348.592857</td>\n",
       "    </tr>\n",
       "    <tr>\n",
       "      <th>...</th>\n",
       "      <td>...</td>\n",
       "      <td>...</td>\n",
       "      <td>...</td>\n",
       "      <td>...</td>\n",
       "    </tr>\n",
       "    <tr>\n",
       "      <th>4</th>\n",
       "      <td>2020-10-01</td>\n",
       "      <td>613666.69</td>\n",
       "      <td>6816.37</td>\n",
       "      <td>10223.171429</td>\n",
       "    </tr>\n",
       "    <tr>\n",
       "      <th>3</th>\n",
       "      <td>2020-11-01</td>\n",
       "      <td>668754.58</td>\n",
       "      <td>55087.89</td>\n",
       "      <td>16444.632857</td>\n",
       "    </tr>\n",
       "    <tr>\n",
       "      <th>2</th>\n",
       "      <td>2020-12-01</td>\n",
       "      <td>717803.75</td>\n",
       "      <td>49049.17</td>\n",
       "      <td>NaN</td>\n",
       "    </tr>\n",
       "    <tr>\n",
       "      <th>1</th>\n",
       "      <td>2021-01-01</td>\n",
       "      <td>743209.66</td>\n",
       "      <td>25405.91</td>\n",
       "      <td>NaN</td>\n",
       "    </tr>\n",
       "    <tr>\n",
       "      <th>0</th>\n",
       "      <td>2021-02-01</td>\n",
       "      <td>741013.24</td>\n",
       "      <td>-2196.42</td>\n",
       "      <td>NaN</td>\n",
       "    </tr>\n",
       "  </tbody>\n",
       "</table>\n",
       "<p>104 rows × 4 columns</p>\n",
       "</div>"
      ],
      "text/plain": [
       "          date        avg      gain  rolling_gain\n",
       "103 2012-07-01     932.57       0.0           NaN\n",
       "102 2012-08-01   15475.39  14542.81           NaN\n",
       "101 2012-09-01   16000.75    525.36           NaN\n",
       "100 2012-10-01   10739.48  -5261.27   2175.948571\n",
       "99  2012-11-01    14134.1   3394.62   2348.592857\n",
       "..         ...        ...       ...           ...\n",
       "4   2020-10-01  613666.69   6816.37  10223.171429\n",
       "3   2020-11-01  668754.58  55087.89  16444.632857\n",
       "2   2020-12-01  717803.75  49049.17           NaN\n",
       "1   2021-01-01  743209.66  25405.91           NaN\n",
       "0   2021-02-01  741013.24  -2196.42           NaN\n",
       "\n",
       "[104 rows x 4 columns]"
      ]
     },
     "execution_count": 10,
     "metadata": {},
     "output_type": "execute_result"
    }
   ],
   "source": [
    "df_csgo_sorted['rolling_gain'] = df_csgo_sorted['gain'].rolling(7, center=True).mean()\n",
    "df_csgo_sorted"
   ]
  },
  {
   "cell_type": "code",
   "execution_count": 11,
   "metadata": {},
   "outputs": [
    {
     "data": {
      "text/html": [
       "<div>\n",
       "<style scoped>\n",
       "    .dataframe tbody tr th:only-of-type {\n",
       "        vertical-align: middle;\n",
       "    }\n",
       "\n",
       "    .dataframe tbody tr th {\n",
       "        vertical-align: top;\n",
       "    }\n",
       "\n",
       "    .dataframe thead th {\n",
       "        text-align: right;\n",
       "    }\n",
       "</style>\n",
       "<table border=\"1\" class=\"dataframe\">\n",
       "  <thead>\n",
       "    <tr style=\"text-align: right;\">\n",
       "      <th></th>\n",
       "      <th>date</th>\n",
       "      <th>avg</th>\n",
       "      <th>gain</th>\n",
       "      <th>rolling_gain</th>\n",
       "    </tr>\n",
       "  </thead>\n",
       "  <tbody>\n",
       "    <tr>\n",
       "      <th>103</th>\n",
       "      <td>2012-07-01</td>\n",
       "      <td>932.57</td>\n",
       "      <td>0.0</td>\n",
       "      <td>0.000000</td>\n",
       "    </tr>\n",
       "    <tr>\n",
       "      <th>102</th>\n",
       "      <td>2012-08-01</td>\n",
       "      <td>15475.39</td>\n",
       "      <td>14542.81</td>\n",
       "      <td>0.000000</td>\n",
       "    </tr>\n",
       "    <tr>\n",
       "      <th>101</th>\n",
       "      <td>2012-09-01</td>\n",
       "      <td>16000.75</td>\n",
       "      <td>525.36</td>\n",
       "      <td>0.000000</td>\n",
       "    </tr>\n",
       "    <tr>\n",
       "      <th>100</th>\n",
       "      <td>2012-10-01</td>\n",
       "      <td>10739.48</td>\n",
       "      <td>-5261.27</td>\n",
       "      <td>2175.948571</td>\n",
       "    </tr>\n",
       "    <tr>\n",
       "      <th>99</th>\n",
       "      <td>2012-11-01</td>\n",
       "      <td>14134.1</td>\n",
       "      <td>3394.62</td>\n",
       "      <td>2348.592857</td>\n",
       "    </tr>\n",
       "    <tr>\n",
       "      <th>...</th>\n",
       "      <td>...</td>\n",
       "      <td>...</td>\n",
       "      <td>...</td>\n",
       "      <td>...</td>\n",
       "    </tr>\n",
       "    <tr>\n",
       "      <th>4</th>\n",
       "      <td>2020-10-01</td>\n",
       "      <td>613666.69</td>\n",
       "      <td>6816.37</td>\n",
       "      <td>10223.171429</td>\n",
       "    </tr>\n",
       "    <tr>\n",
       "      <th>3</th>\n",
       "      <td>2020-11-01</td>\n",
       "      <td>668754.58</td>\n",
       "      <td>55087.89</td>\n",
       "      <td>16444.632857</td>\n",
       "    </tr>\n",
       "    <tr>\n",
       "      <th>2</th>\n",
       "      <td>2020-12-01</td>\n",
       "      <td>717803.75</td>\n",
       "      <td>49049.17</td>\n",
       "      <td>0.000000</td>\n",
       "    </tr>\n",
       "    <tr>\n",
       "      <th>1</th>\n",
       "      <td>2021-01-01</td>\n",
       "      <td>743209.66</td>\n",
       "      <td>25405.91</td>\n",
       "      <td>0.000000</td>\n",
       "    </tr>\n",
       "    <tr>\n",
       "      <th>0</th>\n",
       "      <td>2021-02-01</td>\n",
       "      <td>741013.24</td>\n",
       "      <td>-2196.42</td>\n",
       "      <td>0.000000</td>\n",
       "    </tr>\n",
       "  </tbody>\n",
       "</table>\n",
       "<p>104 rows × 4 columns</p>\n",
       "</div>"
      ],
      "text/plain": [
       "          date        avg      gain  rolling_gain\n",
       "103 2012-07-01     932.57       0.0      0.000000\n",
       "102 2012-08-01   15475.39  14542.81      0.000000\n",
       "101 2012-09-01   16000.75    525.36      0.000000\n",
       "100 2012-10-01   10739.48  -5261.27   2175.948571\n",
       "99  2012-11-01    14134.1   3394.62   2348.592857\n",
       "..         ...        ...       ...           ...\n",
       "4   2020-10-01  613666.69   6816.37  10223.171429\n",
       "3   2020-11-01  668754.58  55087.89  16444.632857\n",
       "2   2020-12-01  717803.75  49049.17      0.000000\n",
       "1   2021-01-01  743209.66  25405.91      0.000000\n",
       "0   2021-02-01  741013.24  -2196.42      0.000000\n",
       "\n",
       "[104 rows x 4 columns]"
      ]
     },
     "execution_count": 11,
     "metadata": {},
     "output_type": "execute_result"
    }
   ],
   "source": [
    "df_csgo_sorted.fillna(0, inplace=True)\n",
    "df_csgo_sorted"
   ]
  },
  {
   "cell_type": "markdown",
   "metadata": {
    "tags": []
   },
   "source": [
    "### Method Chaining"
   ]
  },
  {
   "cell_type": "code",
   "execution_count": 4,
   "metadata": {},
   "outputs": [
    {
     "name": "stdout",
     "output_type": "stream",
     "text": [
      "         date        avg      gain  rolling_gain\n",
      "99 2012-11-01    14134.1   3394.62   2348.592857\n",
      "98 2012-12-01   14079.39    -54.71     69.214286\n",
      "97 2013-01-01   16164.22   2084.83      0.750000\n",
      "96 2013-02-01   17372.73   1208.51   1138.694286\n",
      "95 2013-03-01   15959.89  -1412.84    569.391429\n",
      "..        ...        ...       ...           ...\n",
      "7  2020-07-01  625900.81 -45746.65  -8195.227143\n",
      "6  2020-08-01  639957.66  14056.85 -26978.520000\n",
      "5  2020-09-01  606850.32 -33107.34  -7284.500000\n",
      "4  2020-10-01  613666.69   6816.37  10223.171429\n",
      "3  2020-11-01  668754.58  55087.89  16444.632857\n",
      "\n",
      "[97 rows x 4 columns]\n"
     ]
    }
   ],
   "source": [
    "print(load_process_csgo('../data/raw/SteamCharts.csv'))"
   ]
  },
  {
   "cell_type": "code",
   "execution_count": 5,
   "metadata": {},
   "outputs": [
    {
     "data": {
      "text/html": [
       "<div>\n",
       "<style scoped>\n",
       "    .dataframe tbody tr th:only-of-type {\n",
       "        vertical-align: middle;\n",
       "    }\n",
       "\n",
       "    .dataframe tbody tr th {\n",
       "        vertical-align: top;\n",
       "    }\n",
       "\n",
       "    .dataframe thead th {\n",
       "        text-align: right;\n",
       "    }\n",
       "</style>\n",
       "<table border=\"1\" class=\"dataframe\">\n",
       "  <thead>\n",
       "    <tr style=\"text-align: right;\">\n",
       "      <th></th>\n",
       "      <th>date</th>\n",
       "      <th>avg</th>\n",
       "      <th>gain</th>\n",
       "      <th>rolling_gain</th>\n",
       "    </tr>\n",
       "  </thead>\n",
       "  <tbody>\n",
       "    <tr>\n",
       "      <th>99</th>\n",
       "      <td>2012-11-01</td>\n",
       "      <td>14134.1</td>\n",
       "      <td>3394.62</td>\n",
       "      <td>2348.592857</td>\n",
       "    </tr>\n",
       "    <tr>\n",
       "      <th>98</th>\n",
       "      <td>2012-12-01</td>\n",
       "      <td>14079.39</td>\n",
       "      <td>-54.71</td>\n",
       "      <td>69.214286</td>\n",
       "    </tr>\n",
       "    <tr>\n",
       "      <th>97</th>\n",
       "      <td>2013-01-01</td>\n",
       "      <td>16164.22</td>\n",
       "      <td>2084.83</td>\n",
       "      <td>0.750000</td>\n",
       "    </tr>\n",
       "    <tr>\n",
       "      <th>96</th>\n",
       "      <td>2013-02-01</td>\n",
       "      <td>17372.73</td>\n",
       "      <td>1208.51</td>\n",
       "      <td>1138.694286</td>\n",
       "    </tr>\n",
       "    <tr>\n",
       "      <th>95</th>\n",
       "      <td>2013-03-01</td>\n",
       "      <td>15959.89</td>\n",
       "      <td>-1412.84</td>\n",
       "      <td>569.391429</td>\n",
       "    </tr>\n",
       "    <tr>\n",
       "      <th>...</th>\n",
       "      <td>...</td>\n",
       "      <td>...</td>\n",
       "      <td>...</td>\n",
       "      <td>...</td>\n",
       "    </tr>\n",
       "    <tr>\n",
       "      <th>7</th>\n",
       "      <td>2020-07-01</td>\n",
       "      <td>625900.81</td>\n",
       "      <td>-45746.65</td>\n",
       "      <td>-8195.227143</td>\n",
       "    </tr>\n",
       "    <tr>\n",
       "      <th>6</th>\n",
       "      <td>2020-08-01</td>\n",
       "      <td>639957.66</td>\n",
       "      <td>14056.85</td>\n",
       "      <td>-26978.520000</td>\n",
       "    </tr>\n",
       "    <tr>\n",
       "      <th>5</th>\n",
       "      <td>2020-09-01</td>\n",
       "      <td>606850.32</td>\n",
       "      <td>-33107.34</td>\n",
       "      <td>-7284.500000</td>\n",
       "    </tr>\n",
       "    <tr>\n",
       "      <th>4</th>\n",
       "      <td>2020-10-01</td>\n",
       "      <td>613666.69</td>\n",
       "      <td>6816.37</td>\n",
       "      <td>10223.171429</td>\n",
       "    </tr>\n",
       "    <tr>\n",
       "      <th>3</th>\n",
       "      <td>2020-11-01</td>\n",
       "      <td>668754.58</td>\n",
       "      <td>55087.89</td>\n",
       "      <td>16444.632857</td>\n",
       "    </tr>\n",
       "  </tbody>\n",
       "</table>\n",
       "<p>97 rows × 4 columns</p>\n",
       "</div>"
      ],
      "text/plain": [
       "         date        avg      gain  rolling_gain\n",
       "99 2012-11-01    14134.1   3394.62   2348.592857\n",
       "98 2012-12-01   14079.39    -54.71     69.214286\n",
       "97 2013-01-01   16164.22   2084.83      0.750000\n",
       "96 2013-02-01   17372.73   1208.51   1138.694286\n",
       "95 2013-03-01   15959.89  -1412.84    569.391429\n",
       "..        ...        ...       ...           ...\n",
       "7  2020-07-01  625900.81 -45746.65  -8195.227143\n",
       "6  2020-08-01  639957.66  14056.85 -26978.520000\n",
       "5  2020-09-01  606850.32 -33107.34  -7284.500000\n",
       "4  2020-10-01  613666.69   6816.37  10223.171429\n",
       "3  2020-11-01  668754.58  55087.89  16444.632857\n",
       "\n",
       "[97 rows x 4 columns]"
      ]
     },
     "execution_count": 5,
     "metadata": {},
     "output_type": "execute_result"
    }
   ],
   "source": [
    "df_csgo_sorted = load_process_csgo('../data/raw/SteamCharts.csv')\n",
    "df_csgo_sorted"
   ]
  },
  {
   "cell_type": "markdown",
   "metadata": {
    "tags": []
   },
   "source": [
    "### Exploritory Data Analysis"
   ]
  },
  {
   "cell_type": "markdown",
   "metadata": {
    "tags": []
   },
   "source": [
    "#### Understanding your Variables"
   ]
  },
  {
   "cell_type": "code",
   "execution_count": 6,
   "metadata": {},
   "outputs": [
    {
     "data": {
      "text/html": [
       "<div>\n",
       "<style scoped>\n",
       "    .dataframe tbody tr th:only-of-type {\n",
       "        vertical-align: middle;\n",
       "    }\n",
       "\n",
       "    .dataframe tbody tr th {\n",
       "        vertical-align: top;\n",
       "    }\n",
       "\n",
       "    .dataframe thead th {\n",
       "        text-align: right;\n",
       "    }\n",
       "</style>\n",
       "<table border=\"1\" class=\"dataframe\">\n",
       "  <thead>\n",
       "    <tr style=\"text-align: right;\">\n",
       "      <th></th>\n",
       "      <th>gamename</th>\n",
       "      <th>year</th>\n",
       "      <th>month</th>\n",
       "      <th>avg</th>\n",
       "      <th>gain</th>\n",
       "      <th>peak</th>\n",
       "      <th>avg_peak_perc</th>\n",
       "    </tr>\n",
       "  </thead>\n",
       "  <tbody>\n",
       "    <tr>\n",
       "      <th>0</th>\n",
       "      <td>Counter-Strike: Global Offensive</td>\n",
       "      <td>2021</td>\n",
       "      <td>February</td>\n",
       "      <td>741013.24</td>\n",
       "      <td>-2196.42</td>\n",
       "      <td>1123485</td>\n",
       "      <td>65.9567%</td>\n",
       "    </tr>\n",
       "    <tr>\n",
       "      <th>1</th>\n",
       "      <td>Counter-Strike: Global Offensive</td>\n",
       "      <td>2021</td>\n",
       "      <td>January</td>\n",
       "      <td>743209.66</td>\n",
       "      <td>25405.91</td>\n",
       "      <td>1124553</td>\n",
       "      <td>66.0893%</td>\n",
       "    </tr>\n",
       "    <tr>\n",
       "      <th>2</th>\n",
       "      <td>Counter-Strike: Global Offensive</td>\n",
       "      <td>2020</td>\n",
       "      <td>December</td>\n",
       "      <td>717803.75</td>\n",
       "      <td>49049.17</td>\n",
       "      <td>1164396</td>\n",
       "      <td>61.646%</td>\n",
       "    </tr>\n",
       "    <tr>\n",
       "      <th>3</th>\n",
       "      <td>Counter-Strike: Global Offensive</td>\n",
       "      <td>2020</td>\n",
       "      <td>November</td>\n",
       "      <td>668754.58</td>\n",
       "      <td>55087.89</td>\n",
       "      <td>1037464</td>\n",
       "      <td>64.4605%</td>\n",
       "    </tr>\n",
       "    <tr>\n",
       "      <th>4</th>\n",
       "      <td>Counter-Strike: Global Offensive</td>\n",
       "      <td>2020</td>\n",
       "      <td>October</td>\n",
       "      <td>613666.69</td>\n",
       "      <td>6816.37</td>\n",
       "      <td>943876</td>\n",
       "      <td>65.0156%</td>\n",
       "    </tr>\n",
       "  </tbody>\n",
       "</table>\n",
       "</div>"
      ],
      "text/plain": [
       "                           gamename  year      month        avg      gain  \\\n",
       "0  Counter-Strike: Global Offensive  2021  February   741013.24  -2196.42   \n",
       "1  Counter-Strike: Global Offensive  2021   January   743209.66  25405.91   \n",
       "2  Counter-Strike: Global Offensive  2020  December   717803.75  49049.17   \n",
       "3  Counter-Strike: Global Offensive  2020  November   668754.58  55087.89   \n",
       "4  Counter-Strike: Global Offensive  2020   October   613666.69   6816.37   \n",
       "\n",
       "      peak avg_peak_perc  \n",
       "0  1123485      65.9567%  \n",
       "1  1124553      66.0893%  \n",
       "2  1164396       61.646%  \n",
       "3  1037464      64.4605%  \n",
       "4   943876      65.0156%  "
      ]
     },
     "execution_count": 6,
     "metadata": {},
     "output_type": "execute_result"
    }
   ],
   "source": [
    "chord1.head()"
   ]
  },
  {
   "cell_type": "code",
   "execution_count": 7,
   "metadata": {},
   "outputs": [
    {
     "data": {
      "text/html": [
       "<div>\n",
       "<style scoped>\n",
       "    .dataframe tbody tr th:only-of-type {\n",
       "        vertical-align: middle;\n",
       "    }\n",
       "\n",
       "    .dataframe tbody tr th {\n",
       "        vertical-align: top;\n",
       "    }\n",
       "\n",
       "    .dataframe thead th {\n",
       "        text-align: right;\n",
       "    }\n",
       "</style>\n",
       "<table border=\"1\" class=\"dataframe\">\n",
       "  <thead>\n",
       "    <tr style=\"text-align: right;\">\n",
       "      <th></th>\n",
       "      <th>date</th>\n",
       "      <th>avg</th>\n",
       "      <th>gain</th>\n",
       "      <th>rolling_gain</th>\n",
       "    </tr>\n",
       "  </thead>\n",
       "  <tbody>\n",
       "    <tr>\n",
       "      <th>99</th>\n",
       "      <td>2012-11-01</td>\n",
       "      <td>14134.1</td>\n",
       "      <td>3394.62</td>\n",
       "      <td>2348.592857</td>\n",
       "    </tr>\n",
       "    <tr>\n",
       "      <th>98</th>\n",
       "      <td>2012-12-01</td>\n",
       "      <td>14079.39</td>\n",
       "      <td>-54.71</td>\n",
       "      <td>69.214286</td>\n",
       "    </tr>\n",
       "    <tr>\n",
       "      <th>97</th>\n",
       "      <td>2013-01-01</td>\n",
       "      <td>16164.22</td>\n",
       "      <td>2084.83</td>\n",
       "      <td>0.750000</td>\n",
       "    </tr>\n",
       "    <tr>\n",
       "      <th>96</th>\n",
       "      <td>2013-02-01</td>\n",
       "      <td>17372.73</td>\n",
       "      <td>1208.51</td>\n",
       "      <td>1138.694286</td>\n",
       "    </tr>\n",
       "    <tr>\n",
       "      <th>95</th>\n",
       "      <td>2013-03-01</td>\n",
       "      <td>15959.89</td>\n",
       "      <td>-1412.84</td>\n",
       "      <td>569.391429</td>\n",
       "    </tr>\n",
       "    <tr>\n",
       "      <th>...</th>\n",
       "      <td>...</td>\n",
       "      <td>...</td>\n",
       "      <td>...</td>\n",
       "      <td>...</td>\n",
       "    </tr>\n",
       "    <tr>\n",
       "      <th>7</th>\n",
       "      <td>2020-07-01</td>\n",
       "      <td>625900.81</td>\n",
       "      <td>-45746.65</td>\n",
       "      <td>-8195.227143</td>\n",
       "    </tr>\n",
       "    <tr>\n",
       "      <th>6</th>\n",
       "      <td>2020-08-01</td>\n",
       "      <td>639957.66</td>\n",
       "      <td>14056.85</td>\n",
       "      <td>-26978.520000</td>\n",
       "    </tr>\n",
       "    <tr>\n",
       "      <th>5</th>\n",
       "      <td>2020-09-01</td>\n",
       "      <td>606850.32</td>\n",
       "      <td>-33107.34</td>\n",
       "      <td>-7284.500000</td>\n",
       "    </tr>\n",
       "    <tr>\n",
       "      <th>4</th>\n",
       "      <td>2020-10-01</td>\n",
       "      <td>613666.69</td>\n",
       "      <td>6816.37</td>\n",
       "      <td>10223.171429</td>\n",
       "    </tr>\n",
       "    <tr>\n",
       "      <th>3</th>\n",
       "      <td>2020-11-01</td>\n",
       "      <td>668754.58</td>\n",
       "      <td>55087.89</td>\n",
       "      <td>16444.632857</td>\n",
       "    </tr>\n",
       "  </tbody>\n",
       "</table>\n",
       "<p>97 rows × 4 columns</p>\n",
       "</div>"
      ],
      "text/plain": [
       "         date        avg      gain  rolling_gain\n",
       "99 2012-11-01    14134.1   3394.62   2348.592857\n",
       "98 2012-12-01   14079.39    -54.71     69.214286\n",
       "97 2013-01-01   16164.22   2084.83      0.750000\n",
       "96 2013-02-01   17372.73   1208.51   1138.694286\n",
       "95 2013-03-01   15959.89  -1412.84    569.391429\n",
       "..        ...        ...       ...           ...\n",
       "7  2020-07-01  625900.81 -45746.65  -8195.227143\n",
       "6  2020-08-01  639957.66  14056.85 -26978.520000\n",
       "5  2020-09-01  606850.32 -33107.34  -7284.500000\n",
       "4  2020-10-01  613666.69   6816.37  10223.171429\n",
       "3  2020-11-01  668754.58  55087.89  16444.632857\n",
       "\n",
       "[97 rows x 4 columns]"
      ]
     },
     "execution_count": 7,
     "metadata": {},
     "output_type": "execute_result"
    }
   ],
   "source": [
    "df_csgo_sorted"
   ]
  },
  {
   "cell_type": "code",
   "execution_count": 8,
   "metadata": {},
   "outputs": [
    {
     "name": "stdout",
     "output_type": "stream",
     "text": [
      "(97, 4)\n",
      "(83789, 7)\n"
     ]
    }
   ],
   "source": [
    "print(df_csgo_sorted.shape)\n",
    "print(chord1.shape)"
   ]
  },
  {
   "cell_type": "code",
   "execution_count": 9,
   "metadata": {},
   "outputs": [
    {
     "name": "stdout",
     "output_type": "stream",
     "text": [
      "date            datetime64[ns]\n",
      "avg                    Float64\n",
      "gain                   Float64\n",
      "rolling_gain           float64\n",
      "dtype: object\n"
     ]
    }
   ],
   "source": [
    "print(df_csgo_sorted.dtypes)"
   ]
  },
  {
   "cell_type": "code",
   "execution_count": 10,
   "metadata": {},
   "outputs": [
    {
     "data": {
      "text/plain": [
       "Index(['date', 'avg', 'gain', 'rolling_gain'], dtype='object')"
      ]
     },
     "execution_count": 10,
     "metadata": {},
     "output_type": "execute_result"
    }
   ],
   "source": [
    "df_csgo_sorted.columns"
   ]
  },
  {
   "cell_type": "code",
   "execution_count": 11,
   "metadata": {},
   "outputs": [
    {
     "name": "stdout",
     "output_type": "stream",
     "text": [
      "date            97\n",
      "avg             97\n",
      "gain            97\n",
      "rolling_gain    97\n",
      "dtype: int64\n"
     ]
    }
   ],
   "source": [
    "print(df_csgo_sorted.nunique(axis=0))"
   ]
  },
  {
   "cell_type": "code",
   "execution_count": 12,
   "metadata": {},
   "outputs": [
    {
     "name": "stdout",
     "output_type": "stream",
     "text": [
      "gamename          1260\n",
      "year                10\n",
      "month               12\n",
      "avg              53471\n",
      "gain             37276\n",
      "peak             12748\n",
      "avg_peak_perc    71491\n",
      "dtype: int64\n"
     ]
    }
   ],
   "source": [
    "print(chord1.nunique(axis=0))"
   ]
  },
  {
   "cell_type": "code",
   "execution_count": 13,
   "metadata": {},
   "outputs": [
    {
     "data": {
      "text/html": [
       "<div>\n",
       "<style scoped>\n",
       "    .dataframe tbody tr th:only-of-type {\n",
       "        vertical-align: middle;\n",
       "    }\n",
       "\n",
       "    .dataframe tbody tr th {\n",
       "        vertical-align: top;\n",
       "    }\n",
       "\n",
       "    .dataframe thead th {\n",
       "        text-align: right;\n",
       "    }\n",
       "</style>\n",
       "<table border=\"1\" class=\"dataframe\">\n",
       "  <thead>\n",
       "    <tr style=\"text-align: right;\">\n",
       "      <th></th>\n",
       "      <th>avg</th>\n",
       "      <th>gain</th>\n",
       "      <th>rolling_gain</th>\n",
       "    </tr>\n",
       "  </thead>\n",
       "  <tbody>\n",
       "    <tr>\n",
       "      <th>count</th>\n",
       "      <td>97.000000</td>\n",
       "      <td>97.000000</td>\n",
       "      <td>97.000000</td>\n",
       "    </tr>\n",
       "    <tr>\n",
       "      <th>mean</th>\n",
       "      <td>307772.045361</td>\n",
       "      <td>6783.660928</td>\n",
       "      <td>6839.072253</td>\n",
       "    </tr>\n",
       "    <tr>\n",
       "      <th>std</th>\n",
       "      <td>185140.928333</td>\n",
       "      <td>34588.859331</td>\n",
       "      <td>13088.399249</td>\n",
       "    </tr>\n",
       "    <tr>\n",
       "      <th>min</th>\n",
       "      <td>14079.390000</td>\n",
       "      <td>-97147.790000</td>\n",
       "      <td>-26978.520000</td>\n",
       "    </tr>\n",
       "    <tr>\n",
       "      <th>25%</th>\n",
       "      <td>147329.070000</td>\n",
       "      <td>-3631.080000</td>\n",
       "      <td>0.750000</td>\n",
       "    </tr>\n",
       "    <tr>\n",
       "      <th>50%</th>\n",
       "      <td>342195.700000</td>\n",
       "      <td>4164.010000</td>\n",
       "      <td>5536.125714</td>\n",
       "    </tr>\n",
       "    <tr>\n",
       "      <th>75%</th>\n",
       "      <td>386908.720000</td>\n",
       "      <td>17085.500000</td>\n",
       "      <td>13183.467143</td>\n",
       "    </tr>\n",
       "    <tr>\n",
       "      <th>max</th>\n",
       "      <td>857604.220000</td>\n",
       "      <td>186570.940000</td>\n",
       "      <td>63811.232857</td>\n",
       "    </tr>\n",
       "  </tbody>\n",
       "</table>\n",
       "</div>"
      ],
      "text/plain": [
       "                 avg           gain  rolling_gain\n",
       "count      97.000000      97.000000     97.000000\n",
       "mean   307772.045361    6783.660928   6839.072253\n",
       "std    185140.928333   34588.859331  13088.399249\n",
       "min     14079.390000  -97147.790000 -26978.520000\n",
       "25%    147329.070000   -3631.080000      0.750000\n",
       "50%    342195.700000    4164.010000   5536.125714\n",
       "75%    386908.720000   17085.500000  13183.467143\n",
       "max    857604.220000  186570.940000  63811.232857"
      ]
     },
     "execution_count": 13,
     "metadata": {},
     "output_type": "execute_result"
    }
   ],
   "source": [
    "df_csgo_sorted.describe()"
   ]
  },
  {
   "cell_type": "code",
   "execution_count": 14,
   "metadata": {},
   "outputs": [
    {
     "data": {
      "text/html": [
       "<div>\n",
       "<style scoped>\n",
       "    .dataframe tbody tr th:only-of-type {\n",
       "        vertical-align: middle;\n",
       "    }\n",
       "\n",
       "    .dataframe tbody tr th {\n",
       "        vertical-align: top;\n",
       "    }\n",
       "\n",
       "    .dataframe thead th {\n",
       "        text-align: right;\n",
       "    }\n",
       "</style>\n",
       "<table border=\"1\" class=\"dataframe\">\n",
       "  <thead>\n",
       "    <tr style=\"text-align: right;\">\n",
       "      <th></th>\n",
       "      <th>year</th>\n",
       "      <th>avg</th>\n",
       "      <th>gain</th>\n",
       "      <th>peak</th>\n",
       "    </tr>\n",
       "  </thead>\n",
       "  <tbody>\n",
       "    <tr>\n",
       "      <th>count</th>\n",
       "      <td>83789.000000</td>\n",
       "      <td>8.378900e+04</td>\n",
       "      <td>82529.000000</td>\n",
       "      <td>8.378900e+04</td>\n",
       "    </tr>\n",
       "    <tr>\n",
       "      <th>mean</th>\n",
       "      <td>2017.338708</td>\n",
       "      <td>2.792017e+03</td>\n",
       "      <td>-10.245559</td>\n",
       "      <td>5.518877e+03</td>\n",
       "    </tr>\n",
       "    <tr>\n",
       "      <th>std</th>\n",
       "      <td>2.237587</td>\n",
       "      <td>2.648480e+04</td>\n",
       "      <td>3789.944005</td>\n",
       "      <td>5.015571e+04</td>\n",
       "    </tr>\n",
       "    <tr>\n",
       "      <th>min</th>\n",
       "      <td>2012.000000</td>\n",
       "      <td>0.000000e+00</td>\n",
       "      <td>-250248.990000</td>\n",
       "      <td>0.000000e+00</td>\n",
       "    </tr>\n",
       "    <tr>\n",
       "      <th>25%</th>\n",
       "      <td>2016.000000</td>\n",
       "      <td>5.325000e+01</td>\n",
       "      <td>-38.310000</td>\n",
       "      <td>1.380000e+02</td>\n",
       "    </tr>\n",
       "    <tr>\n",
       "      <th>50%</th>\n",
       "      <td>2018.000000</td>\n",
       "      <td>2.042700e+02</td>\n",
       "      <td>-1.630000</td>\n",
       "      <td>5.020000e+02</td>\n",
       "    </tr>\n",
       "    <tr>\n",
       "      <th>75%</th>\n",
       "      <td>2019.000000</td>\n",
       "      <td>7.716500e+02</td>\n",
       "      <td>22.320000</td>\n",
       "      <td>1.741000e+03</td>\n",
       "    </tr>\n",
       "    <tr>\n",
       "      <th>max</th>\n",
       "      <td>2021.000000</td>\n",
       "      <td>1.584887e+06</td>\n",
       "      <td>426446.120000</td>\n",
       "      <td>3.236027e+06</td>\n",
       "    </tr>\n",
       "  </tbody>\n",
       "</table>\n",
       "</div>"
      ],
      "text/plain": [
       "               year           avg           gain          peak\n",
       "count  83789.000000  8.378900e+04   82529.000000  8.378900e+04\n",
       "mean    2017.338708  2.792017e+03     -10.245559  5.518877e+03\n",
       "std        2.237587  2.648480e+04    3789.944005  5.015571e+04\n",
       "min     2012.000000  0.000000e+00 -250248.990000  0.000000e+00\n",
       "25%     2016.000000  5.325000e+01     -38.310000  1.380000e+02\n",
       "50%     2018.000000  2.042700e+02      -1.630000  5.020000e+02\n",
       "75%     2019.000000  7.716500e+02      22.320000  1.741000e+03\n",
       "max     2021.000000  1.584887e+06  426446.120000  3.236027e+06"
      ]
     },
     "execution_count": 14,
     "metadata": {},
     "output_type": "execute_result"
    }
   ],
   "source": [
    "chord1.describe()"
   ]
  },
  {
   "cell_type": "code",
   "execution_count": 16,
   "metadata": {},
   "outputs": [
    {
     "name": "stdout",
     "output_type": "stream",
     "text": [
      "['2012-11-01T00:00:00.000000000' '2012-12-01T00:00:00.000000000'\n",
      " '2013-01-01T00:00:00.000000000' '2013-02-01T00:00:00.000000000'\n",
      " '2013-03-01T00:00:00.000000000' '2013-04-01T00:00:00.000000000'\n",
      " '2013-05-01T00:00:00.000000000' '2013-06-01T00:00:00.000000000'\n",
      " '2013-07-01T00:00:00.000000000' '2013-08-01T00:00:00.000000000'\n",
      " '2013-09-01T00:00:00.000000000' '2013-10-01T00:00:00.000000000'\n",
      " '2013-11-01T00:00:00.000000000' '2013-12-01T00:00:00.000000000'\n",
      " '2014-01-01T00:00:00.000000000' '2014-02-01T00:00:00.000000000'\n",
      " '2014-03-01T00:00:00.000000000' '2014-04-01T00:00:00.000000000'\n",
      " '2014-05-01T00:00:00.000000000' '2014-06-01T00:00:00.000000000'\n",
      " '2014-07-01T00:00:00.000000000' '2014-08-01T00:00:00.000000000'\n",
      " '2014-09-01T00:00:00.000000000' '2014-10-01T00:00:00.000000000'\n",
      " '2014-11-01T00:00:00.000000000' '2014-12-01T00:00:00.000000000'\n",
      " '2015-01-01T00:00:00.000000000' '2015-02-01T00:00:00.000000000'\n",
      " '2015-03-01T00:00:00.000000000' '2015-04-01T00:00:00.000000000'\n",
      " '2015-05-01T00:00:00.000000000' '2015-06-01T00:00:00.000000000'\n",
      " '2015-07-01T00:00:00.000000000' '2015-08-01T00:00:00.000000000'\n",
      " '2015-09-01T00:00:00.000000000' '2015-10-01T00:00:00.000000000'\n",
      " '2015-11-01T00:00:00.000000000' '2015-12-01T00:00:00.000000000'\n",
      " '2016-01-01T00:00:00.000000000' '2016-02-01T00:00:00.000000000'\n",
      " '2016-03-01T00:00:00.000000000' '2016-04-01T00:00:00.000000000'\n",
      " '2016-05-01T00:00:00.000000000' '2016-06-01T00:00:00.000000000'\n",
      " '2016-07-01T00:00:00.000000000' '2016-08-01T00:00:00.000000000'\n",
      " '2016-09-01T00:00:00.000000000' '2016-10-01T00:00:00.000000000'\n",
      " '2016-11-01T00:00:00.000000000' '2016-12-01T00:00:00.000000000'\n",
      " '2017-01-01T00:00:00.000000000' '2017-02-01T00:00:00.000000000'\n",
      " '2017-03-01T00:00:00.000000000' '2017-04-01T00:00:00.000000000'\n",
      " '2017-05-01T00:00:00.000000000' '2017-06-01T00:00:00.000000000'\n",
      " '2017-07-01T00:00:00.000000000' '2017-08-01T00:00:00.000000000'\n",
      " '2017-09-01T00:00:00.000000000' '2017-10-01T00:00:00.000000000'\n",
      " '2017-11-01T00:00:00.000000000' '2017-12-01T00:00:00.000000000'\n",
      " '2018-01-01T00:00:00.000000000' '2018-02-01T00:00:00.000000000'\n",
      " '2018-03-01T00:00:00.000000000' '2018-04-01T00:00:00.000000000'\n",
      " '2018-05-01T00:00:00.000000000' '2018-06-01T00:00:00.000000000'\n",
      " '2018-07-01T00:00:00.000000000' '2018-08-01T00:00:00.000000000'\n",
      " '2018-09-01T00:00:00.000000000' '2018-10-01T00:00:00.000000000'\n",
      " '2018-11-01T00:00:00.000000000' '2018-12-01T00:00:00.000000000'\n",
      " '2019-01-01T00:00:00.000000000' '2019-02-01T00:00:00.000000000'\n",
      " '2019-03-01T00:00:00.000000000' '2019-04-01T00:00:00.000000000'\n",
      " '2019-05-01T00:00:00.000000000' '2019-06-01T00:00:00.000000000'\n",
      " '2019-07-01T00:00:00.000000000' '2019-08-01T00:00:00.000000000'\n",
      " '2019-09-01T00:00:00.000000000' '2019-10-01T00:00:00.000000000'\n",
      " '2019-11-01T00:00:00.000000000' '2019-12-01T00:00:00.000000000'\n",
      " '2020-01-01T00:00:00.000000000' '2020-02-01T00:00:00.000000000'\n",
      " '2020-03-01T00:00:00.000000000' '2020-04-01T00:00:00.000000000'\n",
      " '2020-05-01T00:00:00.000000000' '2020-06-01T00:00:00.000000000'\n",
      " '2020-07-01T00:00:00.000000000' '2020-08-01T00:00:00.000000000'\n",
      " '2020-09-01T00:00:00.000000000' '2020-10-01T00:00:00.000000000'\n",
      " '2020-11-01T00:00:00.000000000']\n"
     ]
    }
   ],
   "source": [
    "print(df_csgo_sorted.date.unique())"
   ]
  },
  {
   "cell_type": "markdown",
   "metadata": {
    "tags": []
   },
   "source": [
    "#### Visualization"
   ]
  },
  {
   "cell_type": "code",
   "execution_count": 17,
   "metadata": {},
   "outputs": [
    {
     "data": {
      "text/plain": [
       "<AxesSubplot:>"
      ]
     },
     "execution_count": 17,
     "metadata": {},
     "output_type": "execute_result"
    },
    {
     "data": {
      "image/png": "[encoded data removed]",
      "text/plain": [
       "<Figure size 432x288 with 2 Axes>"
      ]
     },
     "metadata": {
      "needs_background": "light"
     },
     "output_type": "display_data"
    }
   ],
   "source": [
    "corr = df_csgo_sorted.corr()\n",
    "sns.heatmap(corr, xticklabels=corr.columns, yticklabels=corr.columns, annot=True, cmap=sns.diverging_palette(220, 20, as_cmap=True))"
   ]
  },
  {
   "cell_type": "code",
   "execution_count": 18,
   "metadata": {},
   "outputs": [
    {
     "data": {
      "text/plain": [
       "<AxesSubplot:xlabel='date', ylabel='rolling_gain'>"
      ]
     },
     "execution_count": 18,
     "metadata": {},
     "output_type": "execute_result"
    },
    {
     "data": {
      "image/png": "[encoded data removed]",
      "text/plain": [
       "<Figure size 1080x576 with 1 Axes>"
      ]
     },
     "metadata": {
      "needs_background": "light"
     },
     "output_type": "display_data"
    }
   ],
   "source": [
    "fig = plt.gcf()\n",
    "fig.set_size_inches(15, 8)\n",
    "sns.scatterplot(x = 'date', y='rolling_gain', data = df_csgo_sorted)"
   ]
  },
  {
   "cell_type": "code",
   "execution_count": 19,
   "metadata": {},
   "outputs": [
    {
     "data": {
      "text/plain": [
       "<AxesSubplot:xlabel='date', ylabel='gain'>"
      ]
     },
     "execution_count": 19,
     "metadata": {},
     "output_type": "execute_result"
    },
    {
     "data": {
      "image/png": "[encoded data removed]",
      "text/plain": [
       "<Figure size 1080x576 with 1 Axes>"
      ]
     },
     "metadata": {
      "needs_background": "light"
     },
     "output_type": "display_data"
    }
   ],
   "source": [
    "fig = plt.gcf()\n",
    "fig.set_size_inches(15, 8)\n",
    "sns.scatterplot(x = 'date', y='gain', data = df_csgo_sorted)"
   ]
  },
  {
   "cell_type": "code",
   "execution_count": 20,
   "metadata": {},
   "outputs": [
    {
     "data": {
      "text/plain": [
       "<AxesSubplot:xlabel='date', ylabel='avg'>"
      ]
     },
     "execution_count": 20,
     "metadata": {},
     "output_type": "execute_result"
    },
    {
     "data": {
      "image/png": "[encoded data removed]",
      "text/plain": [
       "<Figure size 1080x576 with 1 Axes>"
      ]
     },
     "metadata": {
      "needs_background": "light"
     },
     "output_type": "display_data"
    }
   ],
   "source": [
    "fig = plt.gcf()\n",
    "fig.set_size_inches(15, 8)\n",
    "sns.scatterplot(x = 'date', y = 'avg', data = df_csgo_sorted)"
   ]
  },
  {
   "cell_type": "code",
   "execution_count": 21,
   "metadata": {},
   "outputs": [
    {
     "data": {
      "text/plain": [
       "<seaborn.axisgrid.PairGrid at 0x2586d2c54f0>"
      ]
     },
     "execution_count": 21,
     "metadata": {},
     "output_type": "execute_result"
    },
    {
     "data": {
      "text/plain": [
       "<Figure size 4320x4320 with 0 Axes>"
      ]
     },
     "metadata": {},
     "output_type": "display_data"
    },
    {
     "data": {
      "image/png": "[encoded data removed]",
      "text/plain": [
       "<Figure size 540x540 with 12 Axes>"
      ]
     },
     "metadata": {
      "needs_background": "light"
     },
     "output_type": "display_data"
    }
   ],
   "source": [
    "fig = plt.gcf()\n",
    "fig.set_size_inches(60, 60)\n",
    "sns.pairplot(df_csgo_sorted)"
   ]
  },
  {
   "cell_type": "code",
   "execution_count": 22,
   "metadata": {},
   "outputs": [
    {
     "data": {
      "text/plain": [
       "<AxesSubplot:ylabel='Frequency'>"
      ]
     },
     "execution_count": 22,
     "metadata": {},
     "output_type": "execute_result"
    },
    {
     "data": {
      "image/png": "[encoded data removed]",
      "text/plain": [
       "<Figure size 864x432 with 1 Axes>"
      ]
     },
     "metadata": {
      "needs_background": "light"
     },
     "output_type": "display_data"
    }
   ],
   "source": [
    "df_csgo_sorted['gain'].plot(kind='hist', bins=200, figsize=(12, 6), facecolor='grey', edgecolor='black')"
   ]
  },
  {
   "cell_type": "code",
   "execution_count": 23,
   "metadata": {},
   "outputs": [
    {
     "data": {
      "text/plain": [
       "<AxesSubplot:ylabel='Frequency'>"
      ]
     },
     "execution_count": 23,
     "metadata": {},
     "output_type": "execute_result"
    },
    {
     "data": {
      "image/png": "[encoded data removed]",
      "text/plain": [
       "<Figure size 864x432 with 1 Axes>"
      ]
     },
     "metadata": {
      "needs_background": "light"
     },
     "output_type": "display_data"
    }
   ],
   "source": [
    "df_csgo_sorted['avg'].plot(kind='hist', bins=200, figsize=(12, 6), facecolor='grey', edgecolor='black')"
   ]
  },
  {
   "cell_type": "code",
   "execution_count": 24,
   "metadata": {},
   "outputs": [
    {
     "data": {
      "text/plain": [
       "<AxesSubplot:ylabel='Frequency'>"
      ]
     },
     "execution_count": 24,
     "metadata": {},
     "output_type": "execute_result"
    },
    {
     "data": {
      "image/png": "[encoded data removed]",
      "text/plain": [
       "<Figure size 864x432 with 1 Axes>"
      ]
     },
     "metadata": {
      "needs_background": "light"
     },
     "output_type": "display_data"
    }
   ],
   "source": [
    "df_csgo_sorted['rolling_gain'].plot(kind='hist', bins=200, figsize=(12, 6), facecolor='grey', edgecolor='black')"
   ]
  },
  {
   "cell_type": "code",
   "execution_count": 25,
   "metadata": {},
   "outputs": [
    {
     "data": {
      "text/plain": [
       "<AxesSubplot:>"
      ]
     },
     "execution_count": 25,
     "metadata": {},
     "output_type": "execute_result"
    },
    {
     "data": {
      "image/png": "[encoded data removed]",
      "text/plain": [
       "<Figure size 432x288 with 1 Axes>"
      ]
     },
     "metadata": {
      "needs_background": "light"
     },
     "output_type": "display_data"
    }
   ],
   "source": [
    "df_csgo_sorted.boxplot('avg')"
   ]
  },
  {
   "cell_type": "code",
   "execution_count": 26,
   "metadata": {},
   "outputs": [
    {
     "data": {
      "text/plain": [
       "<AxesSubplot:>"
      ]
     },
     "execution_count": 26,
     "metadata": {},
     "output_type": "execute_result"
    },
    {
     "data": {
      "image/png": "[encoded data removed]",
      "text/plain": [
       "<Figure size 432x288 with 1 Axes>"
      ]
     },
     "metadata": {
      "needs_background": "light"
     },
     "output_type": "display_data"
    }
   ],
   "source": [
    "df_csgo_sorted.boxplot('gain')"
   ]
  },
  {
   "cell_type": "code",
   "execution_count": null,
   "metadata": {},
   "outputs": [],
   "source": []
  },
  {
   "cell_type": "code",
   "execution_count": null,
   "metadata": {},
   "outputs": [],
   "source": []
  }
 ],
 "metadata": {
  "kernelspec": {
   "display_name": "Python 3 (ipykernel)",
   "language": "python",
   "name": "python3"
  },
  "language_info": {
   "codemirror_mode": {
    "name": "ipython",
    "version": 3
   },
   "file_extension": ".py",
   "mimetype": "text/x-python",
   "name": "python",
   "nbconvert_exporter": "python",
   "pygments_lexer": "ipython3",
   "version": "3.9.5"
  }
 },
 "nbformat": 4,
 "nbformat_minor": 4
}
