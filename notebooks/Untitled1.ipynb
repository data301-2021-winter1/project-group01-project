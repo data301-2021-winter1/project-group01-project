{
 "cells": [
  {
   "cell_type": "markdown",
   "id": "4e8e96f4-b571-4ccd-8c33-830f8d0e772c",
   "metadata": {},
   "source": [
    "# Milestone 3 - Data Analysis"
   ]
  },
  {
   "cell_type": "markdown",
   "id": "81f92b13-1e2b-444e-ab2b-a266524d1921",
   "metadata": {},
   "source": [
    "## Jarod"
   ]
  },
  {
   "cell_type": "code",
   "execution_count": null,
   "id": "c4183f45-c142-40e1-851c-467bcdbb075b",
   "metadata": {},
   "outputs": [],
   "source": [
    "import seaborn as sns\n",
    "import matplotlib.pyplot as plt\n",
    "from project_functions1 import load_process_csgo"
   ]
  },
  {
   "cell_type": "markdown",
   "id": "b30438f2-1271-47b5-87f3-a222f1f4583d",
   "metadata": {},
   "source": [
    "### Plot"
   ]
  },
  {
   "cell_type": "code",
   "execution_count": null,
   "id": "667f5038-75c3-4160-ae53-ae1048a78540",
   "metadata": {},
   "outputs": [],
   "source": [
    "fig = plt.gcf()\n",
    "fig.set_size_inches(15, 8)\n",
    "sns.scatterplot(x = 'date', y='rolling_gain', data = df_csgo_sorted)"
   ]
  },
  {
   "cell_type": "code",
   "execution_count": null,
   "id": "48980ab9-e6ee-4000-92ef-012ab0ee73a9",
   "metadata": {},
   "outputs": [],
   "source": []
  },
  {
   "cell_type": "markdown",
   "id": "95461065-7f59-48b5-b827-2ba4d307cf17",
   "metadata": {},
   "source": [
    "## Harshal"
   ]
  },
  {
   "cell_type": "markdown",
   "id": "e2255bd7-f8a2-4f03-ba10-1321eaee052f",
   "metadata": {},
   "source": [
    "## Lance"
   ]
  },
  {
   "cell_type": "code",
   "execution_count": null,
   "id": "56477bd2-a895-42ce-9b2a-5cbc65d12097",
   "metadata": {},
   "outputs": [],
   "source": []
  }
 ],
 "metadata": {
  "kernelspec": {
   "display_name": "Python 3 (ipykernel)",
   "language": "python",
   "name": "python3"
  },
  "language_info": {
   "codemirror_mode": {
    "name": "ipython",
    "version": 3
   },
   "file_extension": ".py",
   "mimetype": "text/x-python",
   "name": "python",
   "nbconvert_exporter": "python",
   "pygments_lexer": "ipython3",
   "version": "3.9.5"
  }
 },
 "nbformat": 4,
 "nbformat_minor": 5
}
